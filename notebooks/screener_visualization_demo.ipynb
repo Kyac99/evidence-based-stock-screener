{
 "cells": [
  {
   "cell_type": "markdown",
   "metadata": {},
   "source": [
    "# Démonstration du Evidence-Based Stock Screener\n",
    "\n",
    "Ce notebook démontre l'utilisation du screener d'actions basé sur les facteurs Quality et Momentum, avec une attention particulière portée aux fonctionnalités de visualisation."
   ]
  },
  {
   "cell_type": "markdown",
   "metadata": {},
   "source": [
    "## 1. Configuration et importations"
   ]
  },
  {
   "cell_type": "code",
   "execution_count": null,
   "metadata": {},
   "outputs": [],
   "source": [
    "# Imports standards\n",
    "import pandas as pd\n",
    "import numpy as np\n",
    "import matplotlib.pyplot as plt\n",
    "import seaborn as sns\n",
    "import os\n",
    "import sys\n",
    "from datetime import datetime, timedelta\n",
    "\n",
    "# Ajout du chemin racine du projet pour pouvoir importer les modules\n",
    "sys.path.append('..')\n",
    "\n",
    "# Imports des modules du screener\n",
    "from src.screener.screener import StockScreener\n",
    "from src.visualization.chart_generator import ChartGenerator\n",
    "\n",
    "# Configuration matplotlib et seaborn\n",
    "plt.style.use('seaborn-whitegrid')\n",
    "sns.set_palette('tab10')\n",
    "plt.rcParams['figure.figsize'] = (12, 8)\n",
    "plt.rcParams['figure.dpi'] = 100\n",
    "\n",
    "# Pour afficher les graphiques Plotly dans le notebook\n",
    "import plotly.io as pio\n",
    "pio.renderers.default = 'notebook'"
   ]
  },
  {
   "cell_type": "markdown",
   "metadata": {},
   "source": [
    "## 2. Initialisation du screener et chargement des données"
   ]
  },
  {
   "cell_type": "code",
   "execution_count": null,
   "metadata": {},
   "outputs": [],
   "source": [
    "# Initialiser le screener\n",
    "screener = StockScreener()\n",
    "\n",
    "# Charger les données pour un indice\n",
    "# Note: Cette étape peut prendre du temps si refresh_data=True\n",
    "# Pour accélérer les tests, utilisez refresh_data=False si les données existent déjà\n",
    "index_name = \"SP500\"  # Options possibles: \"SP500\", \"NASDAQ\", \"EUROSTOXX\", etc.\n",
    "refresh_data = False  # Mettre à True pour télécharger des données fraîches\n",
    "\n",
    "print(f\"Chargement des données pour l'indice {index_name}...\")\n",
    "success = screener.load_index_data(index_name, refresh_data=refresh_data)\n",
    "\n",
    "if success:\n",
    "    print(f\"Données chargées avec succès pour {index_name}\")\n",
    "else:\n",
    "    print(f\"Erreur lors du chargement des données pour {index_name}\")"
   ]
  },
  {
   "cell_type": "markdown",
   "metadata": {},
   "source": [
    "## 3. Calcul des scores Quality et Momentum"
   ]
  },
  {
   "cell_type": "code",
   "execution_count": null,
   "metadata": {},
   "outputs": [],
   "source": [
    "# Calculer les scores avec une pondération personnalisée\n",
    "# Vous pouvez ajuster les poids pour donner plus d'importance à un facteur\n",
    "momentum_weight = 0.5  # Poids du facteur Momentum (0-1)\n",
    "quality_weight = 0.5   # Poids du facteur Quality (0-1)\n",
    "\n",
    "print(\"Calcul des scores Quality et Momentum...\")\n",
    "scores = screener.calculate_scores(momentum_weight=momentum_weight, quality_weight=quality_weight)\n",
    "\n",
    "# Afficher les top stocks\n",
    "top_n = 20  # Nombre de stocks à afficher\n",
    "top_stocks = screener.get_top_stocks(n=top_n)\n",
    "\n",
    "print(f\"\\nTop {top_n} stocks basés sur le score combiné:\")\n",
    "display(top_stocks)"
   ]
  },
  {
   "cell_type": "markdown",
   "metadata": {},
   "source": [
    "## 4. Initialisation du générateur de graphiques"
   ]
  },
  {
   "cell_type": "code",
   "execution_count": null,
   "metadata": {},
   "outputs": [],
   "source": [
    "# Créer le dossier de sortie pour les visualisations\n",
    "output_dir = '../reports/visualizations'\n",
    "os.makedirs(output_dir, exist_ok=True)\n",
    "\n",
    "# Initialiser le générateur de graphiques\n",
    "chart_gen = ChartGenerator(output_dir=output_dir)"
   ]
  },
  {
   "cell_type": "markdown",
   "metadata": {},
   "source": [
    "## 5. Visualisation des scores par action"
   ]
  },
  {
   "cell_type": "code",
   "execution_count": null,
   "metadata": {},
   "outputs": [],
   "source": [
    "# Visualiser les scores des meilleures actions\n",
    "scores_fig = chart_gen.plot_factor_scores(\n",
    "    scores_df=screener.combined_scores,\n",
    "    top_n=15,  # Nombre d'actions à afficher\n",
    "    title=f\"Top stocks de l'indice {index_name} par facteurs Quality et Momentum\",\n",
    "    interactive=True  # True pour Plotly, False pour Matplotlib\n",
    ")\n",
    "\n",
    "# Afficher le graphique\n",
    "scores_fig"
   ]
  },
  {
   "cell_type": "markdown",
   "metadata": {},
   "source": [
    "## 6. Visualisation de la distribution par secteur"
   ]
  },
  {
   "cell_type": "code",
   "execution_count": null,
   "metadata": {},
   "outputs": [],
   "source": [
    "# Obtenir les scores combinés avec les informations de secteur\n",
    "combined_with_sector = top_stocks.copy()\n",
    "\n",
    "# Visualiser la distribution par secteur\n",
    "sector_fig = chart_gen.plot_sector_distribution(\n",
    "    scores_df=combined_with_sector,\n",
    "    top_n=30,  # Nombre d'actions à analyser\n",
    "    title=f\"Distribution sectorielle des meilleures actions - {index_name}\",\n",
    "    interactive=True\n",
    ")\n",
    "\n",
    "# Afficher le graphique\n",
    "sector_fig"
   ]
  },
  {
   "cell_type": "markdown",
   "metadata": {},
   "source": [
    "## 7. Carte de chaleur des facteurs"
   ]
  },
  {
   "cell_type": "code",
   "execution_count": null,
   "metadata": {},
   "outputs": [],
   "source": [
    "# Visualiser les scores sous forme de heatmap\n",
    "heatmap_fig = chart_gen.plot_factor_heatmap(\n",
    "    scores_df=screener.combined_scores,\n",
    "    top_n=50,  # Nombre d'actions à afficher\n",
    "    title=f\"Heatmap des facteurs Quality vs Momentum - {index_name}\",\n",
    "    interactive=True\n",
    ")\n",
    "\n",
    "# Afficher le graphique\n",
    "heatmap_fig"
   ]
  },
  {
   "cell_type": "markdown",
   "metadata": {},
   "source": [
    "## 8. Visualisation des performances historiques"
   ]
  },
  {
   "cell_type": "code",
   "execution_count": null,
   "metadata": {},
   "outputs": [],
   "source": [
    "# Sélectionner quelques actions du top pour comparer leur performance\n",
    "top_5_tickers = top_stocks.head(5).index.tolist()\n",
    "\n",
    "# Ajouter l'indice comme référence (si disponible)\n",
    "benchmark = 'SPY'  # Ou un autre ETF représentant l'indice\n",
    "\n",
    "# Visualiser les performances\n",
    "perf_fig = chart_gen.plot_performance_comparison(\n",
    "    price_data=screener.price_data,\n",
    "    tickers=top_5_tickers,\n",
    "    lookback_days=365,  # 1 an de données\n",
    "    benchmark_ticker=benchmark,\n",
    "    title=f\"Performance sur 1 an - Top 5 actions vs {benchmark}\",\n",
    "    interactive=True\n",
    ")\n",
    "\n",
    "# Afficher le graphique\n",
    "perf_fig"
   ]
  },
  {
   "cell_type": "markdown",
   "metadata": {},
   "source": [
    "## 9. Analyse des corrélations avec l'indice"
   ]
  },
  {
   "cell_type": "code",
   "execution_count": null,
   "metadata": {},
   "outputs": [],
   "source": [
    "# Visualiser les corrélations roulantes avec l'indice\n",
    "corr_fig = chart_gen.plot_rolling_correlations(\n",
    "    price_data=screener.price_data,\n",
    "    tickers=top_5_tickers,\n",
    "    benchmark_ticker=benchmark,\n",
    "    window=90,  # Fenêtre de 90 jours\n",
    "    title=f\"Corrélation roulante sur 90 jours avec {benchmark}\",\n",
    "    interactive=True\n",
    ")\n",
    "\n",
    "# Afficher le graphique\n",
    "corr_fig"
   ]
  },
  {
   "cell_type": "markdown",
   "metadata": {},
   "source": [
    "## 10. Comparaison de métriques fondamentales"
   ]
  },
  {
   "cell_type": "code",
   "execution_count": null,
   "metadata": {},
   "outputs": [],
   "source": [
    "# Sélectionner une métrique fondamentale pour la comparaison\n",
    "# Exemples de métriques possibles: 'roe', 'pe_ratio', 'debt_to_equity', etc.\n",
    "# La disponibilité dépend des données collectées\n",
    "metric = 'roe'  # Return on Equity\n",
    "\n",
    "# Visualiser la comparaison de métriques\n",
    "metric_fig = chart_gen.plot_metric_comparison(\n",
    "    fundamental_data=screener.fundamental_data,\n",
    "    tickers=top_5_tickers,\n",
    "    metric_name=metric,\n",
    "    title=f\"Comparaison du {metric.upper()} pour les top 5 actions\",\n",
    "    interactive=True\n",
    ")\n",
    "\n",
    "# Afficher le graphique\n",
    "metric_fig"
   ]
  },
  {
   "cell_type": "markdown",
   "metadata": {},
   "source": [
    "## 11. Distribution des scores"
   ]
  },
  {
   "cell_type": "code",
   "execution_count": null,
   "metadata": {},
   "outputs": [],
   "source": [
    "# Visualiser la distribution des scores\n",
    "dist_fig = chart_gen.plot_score_distributions(\n",
    "    scores_df=screener.combined_scores,\n",
    "    title=f\"Distribution des scores pour l'indice {index_name}\",\n",
    "    interactive=True\n",
    ")\n",
    "\n",
    "# Afficher le graphique\n",
    "dist_fig"
   ]
  },
  {
   "cell_type": "markdown",
   "metadata": {},
   "source": [
    "## 12. Filtrage avancé des actions"
   ]
  },
  {
   "cell_type": "code",
   "execution_count": null,
   "metadata": {},
   "outputs": [],
   "source": [
    "# Filtrer les actions selon des critères spécifiques\n",
    "filtered_stocks = screener.filter_stocks(\n",
    "    min_momentum=60,  # Score Momentum minimum\n",
    "    min_quality=70,   # Score Quality minimum\n",
    "    sectors=['Technology', 'Healthcare']  # Secteurs à inclure\n",
    ")\n",
    "\n",
    "print(f\"Actions filtrées (Momentum > 60, Quality > 70, secteurs Tech et Santé):\")\n",
    "display(filtered_stocks.head(10))\n",
    "\n",
    "# Visualiser les actions filtrées\n",
    "filter_fig = chart_gen.plot_factor_scores(\n",
    "    scores_df=filtered_stocks,\n",
    "    top_n=10,\n",
    "    title=\"Top actions filtrées par critères spécifiques\",\n",
    "    interactive=True\n",
    ")\n",
    "\n",
    "# Afficher le graphique\n",
    "filter_fig"
   ]
  },
  {
   "cell_type": "markdown",
   "metadata": {},
   "source": [
    "## 13. Export des résultats"
   ]
  },
  {
   "cell_type": "code",
   "execution_count": null,
   "metadata": {},
   "outputs": [],
   "source": [
    "# Exporter les résultats dans différents formats\n",
    "# Excel (avec détails)\n",
    "excel_path = screener.export_results(format='xlsx', include_details=True)\n",
    "print(f\"Résultats exportés en Excel: {excel_path}\")\n",
    "\n",
    "# CSV (format simple)\n",
    "csv_path = screener.export_results(format='csv', include_details=False)\n",
    "print(f\"Résultats exportés en CSV: {csv_path}\")\n",
    "\n",
    "# HTML (pour intégration web)\n",
    "html_path = screener.export_results(format='html', include_details=True)\n",
    "print(f\"Résultats exportés en HTML: {html_path}\")"
   ]
  },
  {
   "cell_type": "markdown",
   "metadata": {},
   "source": [
    "## Conclusion\n",
    "\n",
    "Ce notebook a démontré comment utiliser le Evidence-Based Stock Screener pour:\n",
    "\n",
    "1. Charger des données financières pour un indice spécifique\n",
    "2. Calculer des scores basés sur les facteurs Quality et Momentum\n",
    "3. Visualiser les résultats de différentes manières (scores, secteurs, performances, etc.)\n",
    "4. Filtrer les actions selon des critères personnalisés\n",
    "5. Exporter les résultats dans différents formats\n",
    "\n",
    "Les visualisations interactives permettent d'explorer et d'analyser facilement les données pour prendre des décisions d'investissement mieux informées, basées sur des facteurs qui ont prouvé leur efficacité à long terme."
   ]
  }
 ],
 "metadata": {
  "kernelspec": {
   "display_name": "Python 3",
   "language": "python",
   "name": "python3"
  },
  "language_info": {
   "codemirror_mode": {
    "name": "ipython",
    "version": 3
   },
   "file_extension": ".py",
   "mimetype": "text/x-python",
   "name": "python",
   "nbconvert_exporter": "python",
   "pygments_lexer": "ipython3",
   "version": "3.8.10"
  }
 },
 "nbformat": 4,
 "nbformat_minor": 4
}
